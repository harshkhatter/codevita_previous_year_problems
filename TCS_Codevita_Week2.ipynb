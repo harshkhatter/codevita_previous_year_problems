{
 "cells": [
  {
   "cell_type": "code",
   "execution_count": 2,
   "metadata": {},
   "outputs": [
    {
     "name": "stdout",
     "output_type": "stream",
     "text": [
      "Minimum coins required is 2\n"
     ]
    }
   ],
   "source": [
    "# TCS Codevita 2019 Problem\n",
    "\n",
    "#Find minimum number of coins that make a given value\n",
    "\n",
    "#Given a value V, if we want to make change for V cents, and we have infinite supply of each of C = { C1, C2, .. , Cm} \n",
    "#valued coins, what is the minimum number of coins to make the change? \n",
    "\n",
    "import sys\n",
    "\n",
    "# m is size of coins array (number of different coins) \n",
    "def minCoins(coins, m, V): \n",
    "  \n",
    "    # base case \n",
    "    if (V == 0): \n",
    "        return 0\n",
    "  \n",
    "    # Initialize result \n",
    "    res = sys.maxsize \n",
    "      \n",
    "    # Try every coin that has smaller value than V \n",
    "    for i in range(0, m): \n",
    "        if (coins[i] <= V): \n",
    "            sub_res = minCoins(coins, m, V-coins[i]) \n",
    "  \n",
    "            # Check for INT_MAX to avoid overflow and see if \n",
    "            # result can minimized \n",
    "            if (sub_res != sys.maxsize and sub_res + 1 < res): \n",
    "                res = sub_res + 1\n",
    "  \n",
    "    return res \n",
    "\n",
    "# Driver program to test above function \n",
    "coins = [1,5,6,9] \n",
    "m = len(coins) \n",
    "V = 11\n",
    "print(\"Minimum coins required is\",minCoins(coins, m, V)) "
   ]
  },
  {
   "cell_type": "code",
   "execution_count": 3,
   "metadata": {},
   "outputs": [
    {
     "name": "stdout",
     "output_type": "stream",
     "text": [
      "3\n"
     ]
    }
   ],
   "source": [
    "#TCS Codevita 2015 Round 1\n",
    "\n",
    "# A Dynamic Programming based Python program for edit distance problem \n",
    "#Given two strings str1 and str2 and below operations that can performed on str1. Find minimum number of edits (operations) required to convert ‘str1’ into ‘str2’.\n",
    "#    Insert         Remove          Replace\n",
    "#All of the above operations are of equal cost\n",
    "\n",
    "\n",
    "def editDistDP(str1, str2, m, n): \n",
    "    # Create a table to store results of subproblems \n",
    "    dp = [[0 for x in range(n + 1)] for x in range(m + 1)] \n",
    "  \n",
    "    # Fill d[][] in bottom up manner \n",
    "    for i in range(m + 1): \n",
    "        for j in range(n + 1): \n",
    "  \n",
    "            # If first string is empty, only option is to \n",
    "            # insert all characters of second string \n",
    "            if i == 0: \n",
    "                dp[i][j] = j    # Min. operations = j \n",
    "  \n",
    "            # If second string is empty, only option is to \n",
    "            # remove all characters of second string \n",
    "            elif j == 0: \n",
    "                dp[i][j] = i    # Min. operations = i \n",
    "  \n",
    "            # If last characters are same, ignore last char \n",
    "            # and recur for remaining string \n",
    "            elif str1[i-1] == str2[j-1]: \n",
    "                dp[i][j] = dp[i-1][j-1] \n",
    "  \n",
    "            # If last character are different, consider all \n",
    "            # possibilities and find minimum \n",
    "            else: \n",
    "                dp[i][j] = 1 + min(dp[i][j-1],        # Insert \n",
    "                                   dp[i-1][j],        # Remove \n",
    "                                   dp[i-1][j-1])    # Replace \n",
    "  \n",
    "    return dp[m][n] \n",
    "\n",
    "# Driver program to test above function \n",
    "str1 = \"sunday\"\n",
    "str2 = \"saturday\"\n",
    "  \n",
    "print(editDistDP(str1, str2, len(str1), len(str2))) "
   ]
  },
  {
   "cell_type": "code",
   "execution_count": 5,
   "metadata": {},
   "outputs": [
    {
     "name": "stdout",
     "output_type": "stream",
     "text": [
      "12,3\n",
      "4\n"
     ]
    }
   ],
   "source": [
    "#TCS Codevita 2017  Round 1\n",
    "\n",
    "#kth Largest Factor of N\n",
    "#A positive integer d is said to be a factor of another positive integer N if when N is divided by d, the remainder obtained is zero. For example, for number 12, there are 6 factors 1, 2, 3, 4, 6, 12. Every positive integer k has at least two factors, 1 and the number k itself.Given two positive integers N and k, write a program to print the kth largest factor of N.\n",
    "#Input Format: The input is a comma-separated list of positive integer pairs (N, k)\n",
    "#Output Format: The kth highest factor of N. If N does not have k factors, the output should be 1.\n",
    "#Constraints: 1<N<10000000000. 1<k<600.You can assume that N will have no prime factors which are larger than 13.\n",
    "#Explanation: N is 12, k is 3. The factors of 12 are (1,2,3,4,6,12). The highest factor is 12 and the third largest factor is 4. The output must be 4\n",
    "\n",
    "#Take input from user in no,k format i.e. 12,3\n",
    "number, k = [int(i) for i in input().split(\",\")]\n",
    "\n",
    "#declare an empty list 'factor'\n",
    "factor = []\n",
    "#Declare temp variable count\n",
    "count = 0\n",
    "\n",
    "#one be one traverse all the numbers and check for factors\n",
    "for i in range(1, number+1):\n",
    "    if number % i == 0:\n",
    "        count = count + 1\n",
    "        \n",
    "        #add all the factors to a list\n",
    "        factor.append(i)\n",
    "\n",
    "#check for a 'k'th factor\n",
    "if count < k:\n",
    "    print(\"1\")\n",
    "else:\n",
    "    print(factor[k])"
   ]
  },
  {
   "cell_type": "code",
   "execution_count": null,
   "metadata": {},
   "outputs": [],
   "source": []
  }
 ],
 "metadata": {
  "kernelspec": {
   "display_name": "Python 3",
   "language": "python",
   "name": "python3"
  },
  "language_info": {
   "codemirror_mode": {
    "name": "ipython",
    "version": 3
   },
   "file_extension": ".py",
   "mimetype": "text/x-python",
   "name": "python",
   "nbconvert_exporter": "python",
   "pygments_lexer": "ipython3",
   "version": "3.7.0"
  }
 },
 "nbformat": 4,
 "nbformat_minor": 2
}
