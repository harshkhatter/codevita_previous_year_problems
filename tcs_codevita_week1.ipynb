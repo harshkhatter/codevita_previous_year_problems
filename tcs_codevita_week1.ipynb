{
 "cells": [
  {
   "cell_type": "code",
   "execution_count": 24,
   "metadata": {},
   "outputs": [
    {
     "name": "stdout",
     "output_type": "stream",
     "text": [
      "The length of the LPS is 5\n"
     ]
    }
   ],
   "source": [
    "# TCS Codevita 2018\n",
    "# Longest Palindromic Subsequence\n",
    "# Concept is to find the Longest subsequence which gives the palinedrome string\n",
    "# program for LPS problem Returns the length of the longest palindromic subsequence in seq \n",
    "\n",
    "\n",
    "# Function to explain the LPS problem\n",
    "# function takes a single string and returns a length of longest palinedrome sequence\n",
    "def lps(s): \n",
    "    # n stores the length of the string 's'\n",
    "    n = len(s) \n",
    "  \n",
    "    # Create a matrix to store results of subproblems as discussed in video shared\n",
    "    DP = [[0 for x in range(n)] for x in range(n)] \n",
    "  \n",
    "    # By default, Strings of length 1 are palindrome of length 1, initialize the diagonal elements \n",
    "    for i in range(n): \n",
    "        DP[i][i] = 1\n",
    "  \n",
    "    # Build the matrix. \n",
    "        \n",
    "    # cl is length of substring \n",
    "    # consider the case for string length 2 or more\n",
    "    for cl in range(2, n + 1): \n",
    "        for i in range(n-cl + 1): \n",
    "            j = i + cl-1\n",
    "            if s[i] == s[j] and cl == 2: \n",
    "                DP[i][j] = 2\n",
    "            elif s[i] == s[j]: \n",
    "                DP[i][j] = DP[i + 1][j-1] + 2\n",
    "            else: \n",
    "                DP[i][j] = max(DP[i][j-1], DP[i + 1][j]); \n",
    "  \n",
    "    #print(DP)\n",
    "    return DP[0][n-1] \n",
    "  \n",
    "# Code to test above functions \n",
    "\n",
    "seq = \"Harsh Khatter\"\n",
    "n = len(seq) \n",
    "print(\"The length of the LPS is \" + str(lps(seq))) "
   ]
  },
  {
   "cell_type": "code",
   "execution_count": 27,
   "metadata": {},
   "outputs": [
    {
     "name": "stdout",
     "output_type": "stream",
     "text": [
      "4\n"
     ]
    }
   ],
   "source": [
    "# TCS Codevita 2019\n",
    "#Given a value N, if we want to make change for N cents, and \n",
    "#we have infinite supply of each of S = { S1, S2, .. , Sm} valued coins\n",
    "#how many ways can we make the change? The order of coins doesn’t matter.\n",
    "#For example, for N = 4 and S = {1,2,3}, there are four solutions: {1,1,1,1},{1,1,2},{2,2},{1,3}. \n",
    "#So output should be 4. \n",
    "#For N = 10 and S = {2, 5, 3, 6}, there are five solutions: {2,2,2,2,2}, {2,2,3,3}, {2,2,6}, {2,3,5} and {5,5}. \n",
    "#So the output should be 5.\n",
    "\n",
    "\n",
    "# Recursive Python3 program for coin change problem. \n",
    "  \n",
    "\n",
    "# Function for counting the possible combinations and Returns the count of ways we can sum S[0...m-1] coins to get sum n \n",
    "\n",
    "# three arguments; list S, number of currency type m , amount n\n",
    "def count(S, m, n ): \n",
    "  \n",
    "    # If n is 0 then there is 1 solution (do not include any coin) \n",
    "    if (n == 0): \n",
    "        return 1\n",
    "  \n",
    "    # If n is less than 0 then no solution exists \n",
    "    if (n < 0): \n",
    "        return 0; \n",
    "  \n",
    "    # If there are no coins and n is greater than 0, then no solution exist \n",
    "    if (m <=0 and n >= 1): \n",
    "        return 0\n",
    "  \n",
    "    # count is sum of solutions (i) including S[m-1] (ii) excluding S[m-1] \n",
    "    return count( S, m - 1, n ) + count( S, m, n-S[m-1] ); \n",
    "  \n",
    "# code program to test above function \n",
    "#a = input(\"Enter the denominations: \")\n",
    "#arr = list(a.split())\n",
    "\n",
    "#n = int(input(\"Enter the amount : \"))\n",
    "arr = [1, 2, 3] \n",
    "m = len(arr) \n",
    "n = 4   #  amount to be checked\n",
    "print(count(arr, m, n)) \n",
    "  "
   ]
  },
  {
   "cell_type": "code",
   "execution_count": 35,
   "metadata": {},
   "outputs": [
    {
     "name": "stdout",
     "output_type": "stream",
     "text": [
      "Enter a number for prime sum : 14\n",
      "[2, 3, 5, 7, 11, 13]\n",
      "Sum of consecutive prime numbers are  41\n"
     ]
    }
   ],
   "source": [
    "# TCS Codevita 2016\n",
    "# Consecutive prime sum in python\n",
    "\n",
    "#Some prime numbers can be expressed as Sum of other consecutive prime numbers.\n",
    "#For example\n",
    "\n",
    "#5 = 2 + 3\n",
    "#17 = 2 + 3 + 5 + 7\n",
    "#41 = 2 + 3 + 5 + 7 + 11 + 13\n",
    "\n",
    "\n",
    "#Function is working in two parts:\n",
    "#Part 1:  find the prime numbers within the range of given number 'n'\n",
    "#Part 2:  calculate the sum of all prime numbers fetched in list 'l'\n",
    "\n",
    "#Function is using a single argument 'n' as the range value to find out prime numbers and consecutive sum\n",
    "def conprime(n):\n",
    "    # declare an empty list\n",
    "    l=[]\n",
    "    \n",
    "    # one by one check for prime numbers\n",
    "    for i in range(2,n):\n",
    "        count = 0\n",
    "        m = int(abs(i/2)) + 1 \n",
    "        for j in range(2,m):\n",
    "            if i%j == 0 and i > j:\n",
    "                count +=1\n",
    "        if count == 0:\n",
    "            l.append(i)\n",
    "    \n",
    "    # print the list of prime numbers till given range\n",
    "    print(l)\n",
    "    \n",
    "    # call a sum() function to caclulate the sum of all prime numbers to be present in the list\n",
    "    return sum(l)\n",
    "\n",
    "# code of the program\n",
    "n= int(input(\"Enter a number for prime sum : \"))\n",
    "\n",
    "# calling a function copnprime(n)\n",
    "result = conprime(n)\n",
    "\n",
    "\n",
    "print(\"Sum of consecutive prime numbers are \", result)\n"
   ]
  },
  {
   "cell_type": "code",
   "execution_count": null,
   "metadata": {},
   "outputs": [],
   "source": []
  }
 ],
 "metadata": {
  "kernelspec": {
   "display_name": "Python 3",
   "language": "python",
   "name": "python3"
  },
  "language_info": {
   "codemirror_mode": {
    "name": "ipython",
    "version": 3
   },
   "file_extension": ".py",
   "mimetype": "text/x-python",
   "name": "python",
   "nbconvert_exporter": "python",
   "pygments_lexer": "ipython3",
   "version": "3.7.0"
  }
 },
 "nbformat": 4,
 "nbformat_minor": 2
}
